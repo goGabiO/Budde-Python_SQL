{
 "cells": [
  {
   "cell_type": "markdown",
   "id": "1c895198",
   "metadata": {},
   "source": [
    "# Tasks/Questions\n",
    "\n",
    "\t•\tClean the duration column to only have integer values as total duration in seconds\n",
    "\t•\tDelete the songs with an empty instrumental column\n",
    "\t•\tCreate a new field called “tag” and assign \n",
    "        •\t“energetic” if the song has energy higher than 0.7\n",
    "        •\t“positive” if the song has energy higher than 0.6 and danceability higher than 0.7\n",
    "        \n",
    "\t•\tAnswer the following questions\n",
    "        •\tWhat is the average danceability of a Backstreet Boys song? \n",
    "        •\tWhat is the artist with the highest average popularity? \n",
    "        •\tWhat is the average duration in seconds of mainstream (popularity > 50) and indie (popularity  ) songs? "
   ]
  },
  {
   "cell_type": "markdown",
   "id": "a410a0f1",
   "metadata": {},
   "source": [
    "## Tasks"
   ]
  },
  {
   "cell_type": "code",
   "execution_count": 1,
   "id": "4f013b7f",
   "metadata": {},
   "outputs": [],
   "source": [
    "import pandas as pd"
   ]
  },
  {
   "cell_type": "code",
   "execution_count": 43,
   "id": "32586770",
   "metadata": {
    "collapsed": true
   },
   "outputs": [
    {
     "name": "stderr",
     "output_type": "stream",
     "text": [
      "/Users/Gabi/.pyenv/versions/3.8.12/envs/lewagon/lib/python3.8/site-packages/IPython/core/interactiveshell.py:3444: FutureWarning: The error_bad_lines argument has been deprecated and will be removed in a future version.\n",
      "\n",
      "\n",
      "  exec(code_obj, self.user_global_ns, self.user_ns)\n"
     ]
    }
   ],
   "source": [
    "songs_df = pd.read_csv('Data/songs.csv', error_bad_lines=False)"
   ]
  },
  {
   "cell_type": "code",
   "execution_count": 44,
   "id": "b600f76f",
   "metadata": {},
   "outputs": [
    {
     "data": {
      "text/html": [
       "<div>\n",
       "<style scoped>\n",
       "    .dataframe tbody tr th:only-of-type {\n",
       "        vertical-align: middle;\n",
       "    }\n",
       "\n",
       "    .dataframe tbody tr th {\n",
       "        vertical-align: top;\n",
       "    }\n",
       "\n",
       "    .dataframe thead th {\n",
       "        text-align: right;\n",
       "    }\n",
       "</style>\n",
       "<table border=\"1\" class=\"dataframe\">\n",
       "  <thead>\n",
       "    <tr style=\"text-align: right;\">\n",
       "      <th></th>\n",
       "      <th>artist_name</th>\n",
       "      <th>track_name</th>\n",
       "      <th>popularity</th>\n",
       "      <th>danceability</th>\n",
       "      <th>energy</th>\n",
       "      <th>key</th>\n",
       "      <th>loudness</th>\n",
       "      <th>mode</th>\n",
       "      <th>speechiness</th>\n",
       "      <th>acousticness</th>\n",
       "      <th>instrumentalness</th>\n",
       "      <th>liveness</th>\n",
       "      <th>valence</th>\n",
       "      <th>tempo</th>\n",
       "      <th>duration_sec</th>\n",
       "      <th>time_signature</th>\n",
       "    </tr>\n",
       "  </thead>\n",
       "  <tbody>\n",
       "    <tr>\n",
       "      <th>0</th>\n",
       "      <td>David Bowie</td>\n",
       "      <td>Space Oddity - 2015 Remaster</td>\n",
       "      <td>73.0</td>\n",
       "      <td>0.310</td>\n",
       "      <td>0.403</td>\n",
       "      <td>NaN</td>\n",
       "      <td>-13.664</td>\n",
       "      <td>1</td>\n",
       "      <td>0.0326</td>\n",
       "      <td>0.07260</td>\n",
       "      <td>0.000093</td>\n",
       "      <td>0.1390</td>\n",
       "      <td>0.466</td>\n",
       "      <td>134.480</td>\n",
       "      <td>318.027000</td>\n",
       "      <td>4</td>\n",
       "    </tr>\n",
       "    <tr>\n",
       "      <th>1</th>\n",
       "      <td>Crimson Sun</td>\n",
       "      <td>Essence of Creation</td>\n",
       "      <td>34.0</td>\n",
       "      <td>0.511</td>\n",
       "      <td>0.955</td>\n",
       "      <td>1.0</td>\n",
       "      <td>-5.059</td>\n",
       "      <td>1</td>\n",
       "      <td>0.1290</td>\n",
       "      <td>0.00040</td>\n",
       "      <td>0.000009</td>\n",
       "      <td>0.2630</td>\n",
       "      <td>0.291</td>\n",
       "      <td>151.937</td>\n",
       "      <td>220.413000</td>\n",
       "      <td>4</td>\n",
       "    </tr>\n",
       "    <tr>\n",
       "      <th>2</th>\n",
       "      <td>P!nk</td>\n",
       "      <td>Raise Your Glass</td>\n",
       "      <td>78.0</td>\n",
       "      <td>0.700</td>\n",
       "      <td>0.709</td>\n",
       "      <td>7.0</td>\n",
       "      <td>-5.006</td>\n",
       "      <td>1</td>\n",
       "      <td>0.0839</td>\n",
       "      <td>0.00480</td>\n",
       "      <td>NaN</td>\n",
       "      <td>0.0289</td>\n",
       "      <td>0.625</td>\n",
       "      <td>122.019</td>\n",
       "      <td>202.960000</td>\n",
       "      <td>4</td>\n",
       "    </tr>\n",
       "    <tr>\n",
       "      <th>3</th>\n",
       "      <td>Shawn Mendes</td>\n",
       "      <td>Wonder</td>\n",
       "      <td>80.0</td>\n",
       "      <td>0.333</td>\n",
       "      <td>0.637</td>\n",
       "      <td>1.0</td>\n",
       "      <td>-4.904</td>\n",
       "      <td>0</td>\n",
       "      <td>0.0581</td>\n",
       "      <td>0.13100</td>\n",
       "      <td>0.000018</td>\n",
       "      <td>0.1490</td>\n",
       "      <td>0.132</td>\n",
       "      <td>139.898</td>\n",
       "      <td>172.693000</td>\n",
       "      <td>4</td>\n",
       "    </tr>\n",
       "    <tr>\n",
       "      <th>4</th>\n",
       "      <td>Backstreet Boys</td>\n",
       "      <td>Helpless When She Smiles - Radio Version</td>\n",
       "      <td>48.0</td>\n",
       "      <td>0.393</td>\n",
       "      <td>0.849</td>\n",
       "      <td>11.0</td>\n",
       "      <td>-4.114</td>\n",
       "      <td>1</td>\n",
       "      <td>0.0459</td>\n",
       "      <td>0.00421</td>\n",
       "      <td>NaN</td>\n",
       "      <td>0.1620</td>\n",
       "      <td>0.222</td>\n",
       "      <td>74.028</td>\n",
       "      <td>0.004093</td>\n",
       "      <td>4</td>\n",
       "    </tr>\n",
       "  </tbody>\n",
       "</table>\n",
       "</div>"
      ],
      "text/plain": [
       "       artist_name                                track_name  popularity  \\\n",
       "0      David Bowie              Space Oddity - 2015 Remaster        73.0   \n",
       "1      Crimson Sun                       Essence of Creation        34.0   \n",
       "2             P!nk                          Raise Your Glass        78.0   \n",
       "3     Shawn Mendes                                    Wonder        80.0   \n",
       "4  Backstreet Boys  Helpless When She Smiles - Radio Version        48.0   \n",
       "\n",
       "   danceability  energy   key  loudness  mode  speechiness  acousticness  \\\n",
       "0         0.310   0.403   NaN   -13.664     1       0.0326       0.07260   \n",
       "1         0.511   0.955   1.0    -5.059     1       0.1290       0.00040   \n",
       "2         0.700   0.709   7.0    -5.006     1       0.0839       0.00480   \n",
       "3         0.333   0.637   1.0    -4.904     0       0.0581       0.13100   \n",
       "4         0.393   0.849  11.0    -4.114     1       0.0459       0.00421   \n",
       "\n",
       "   instrumentalness  liveness  valence    tempo  duration_sec  time_signature  \n",
       "0          0.000093    0.1390    0.466  134.480    318.027000               4  \n",
       "1          0.000009    0.2630    0.291  151.937    220.413000               4  \n",
       "2               NaN    0.0289    0.625  122.019    202.960000               4  \n",
       "3          0.000018    0.1490    0.132  139.898    172.693000               4  \n",
       "4               NaN    0.1620    0.222   74.028      0.004093               4  "
      ]
     },
     "execution_count": 44,
     "metadata": {},
     "output_type": "execute_result"
    }
   ],
   "source": [
    "songs_df.head()"
   ]
  },
  {
   "cell_type": "code",
   "execution_count": 45,
   "id": "b6b9a5d4",
   "metadata": {},
   "outputs": [],
   "source": [
    "# Clean the duration column to only have integer values as total duration in seconds\n",
    "\n",
    "songs_df['duration_sec'] = songs_df['duration_sec'].astype('int')"
   ]
  },
  {
   "cell_type": "code",
   "execution_count": 46,
   "id": "7b51f9da",
   "metadata": {},
   "outputs": [],
   "source": [
    "# Delete the songs with an empty instrumental column\n",
    "\n",
    "songs_df.dropna(axis=0, subset=['instrumentalness'], inplace=True)"
   ]
  },
  {
   "cell_type": "code",
   "execution_count": 47,
   "id": "5185f7ee",
   "metadata": {},
   "outputs": [],
   "source": [
    "# Create a new field called “tag” and assign \n",
    "       # • “energetic” if the song has energy higher than 0.7\n",
    "       # • “positive” if the song has energy higher than 0.6 and danceability higher than 0.7\n",
    "        \n",
    "songs_df['tag'] = list(zip(songs_df['energy'].values, songs_df['danceability'].values))"
   ]
  },
  {
   "cell_type": "code",
   "execution_count": 50,
   "id": "9d6b39ae",
   "metadata": {},
   "outputs": [],
   "source": [
    "def tag_value(numbers):\n",
    "    if numbers[0] > 0.7 and numbers[1] <= 0.7:\n",
    "        return 'energetic'\n",
    "    elif numbers[0] > 0.6 and numbers[1] > 0.7:\n",
    "        return 'positive'\n",
    "    return None"
   ]
  },
  {
   "cell_type": "code",
   "execution_count": 52,
   "id": "6f47b99d",
   "metadata": {},
   "outputs": [],
   "source": [
    "songs_df['tag'] = songs_df['tag'].apply(tag_value)"
   ]
  },
  {
   "cell_type": "markdown",
   "id": "21e67aa6",
   "metadata": {},
   "source": [
    "## Questions"
   ]
  },
  {
   "cell_type": "code",
   "execution_count": 93,
   "id": "7e52a605",
   "metadata": {},
   "outputs": [],
   "source": [
    "# What is the average danceability of a Backstreet Boys song?\n",
    "\n",
    "bsb_df = songs_df[songs_df['artist_name']=='Backstreet Boys']"
   ]
  },
  {
   "cell_type": "code",
   "execution_count": 94,
   "id": "b3b2a04c",
   "metadata": {},
   "outputs": [
    {
     "data": {
      "text/plain": [
       "0.483"
      ]
     },
     "execution_count": 94,
     "metadata": {},
     "output_type": "execute_result"
    }
   ],
   "source": [
    "answer = round(bsb_df['danceability'].mean(),3)\n",
    "answer"
   ]
  },
  {
   "cell_type": "code",
   "execution_count": 54,
   "id": "08ec1700",
   "metadata": {},
   "outputs": [],
   "source": [
    "# What is the artist with the highest average popularity?"
   ]
  },
  {
   "cell_type": "code",
   "execution_count": 89,
   "id": "2ec6afa2",
   "metadata": {},
   "outputs": [
    {
     "data": {
      "text/plain": [
       "'Doja Cat'"
      ]
     },
     "execution_count": 89,
     "metadata": {},
     "output_type": "execute_result"
    }
   ],
   "source": [
    "all_averages = songs_df.groupby('artist_name')['popularity'].mean().sort_values(ascending=False)\n",
    "\n",
    "answer = all_averages.index.to_list()[0]\n",
    "answer"
   ]
  },
  {
   "cell_type": "code",
   "execution_count": 55,
   "id": "d2529563",
   "metadata": {},
   "outputs": [],
   "source": [
    "# What is the average duration in seconds of mainstream (popularity > 50) and indie (popularity) songs?"
   ]
  },
  {
   "cell_type": "code",
   "execution_count": 96,
   "id": "c00a19f8",
   "metadata": {},
   "outputs": [],
   "source": [
    "mainstream_df = songs_df[songs_df['popularity']>50]"
   ]
  },
  {
   "cell_type": "code",
   "execution_count": 101,
   "id": "f86854ae",
   "metadata": {},
   "outputs": [
    {
     "data": {
      "text/plain": [
       "214.0"
      ]
     },
     "execution_count": 101,
     "metadata": {},
     "output_type": "execute_result"
    }
   ],
   "source": [
    "answer_mainstream = round(mainstream_df['duration_sec'].mean())\n",
    "answer_mainstream"
   ]
  },
  {
   "cell_type": "code",
   "execution_count": 102,
   "id": "564571ad",
   "metadata": {},
   "outputs": [],
   "source": [
    "indie_df = songs_df[songs_df['popularity']<=50]"
   ]
  },
  {
   "cell_type": "code",
   "execution_count": 103,
   "id": "741d960f",
   "metadata": {},
   "outputs": [
    {
     "data": {
      "text/plain": [
       "219.0"
      ]
     },
     "execution_count": 103,
     "metadata": {},
     "output_type": "execute_result"
    }
   ],
   "source": [
    "answer_indie = round(indie_df['duration_sec'].mean())\n",
    "answer_indie"
   ]
  }
 ],
 "metadata": {
  "kernelspec": {
   "display_name": "Python 3 (ipykernel)",
   "language": "python",
   "name": "python3"
  },
  "language_info": {
   "codemirror_mode": {
    "name": "ipython",
    "version": 3
   },
   "file_extension": ".py",
   "mimetype": "text/x-python",
   "name": "python",
   "nbconvert_exporter": "python",
   "pygments_lexer": "ipython3",
   "version": "3.8.12"
  }
 },
 "nbformat": 4,
 "nbformat_minor": 5
}
